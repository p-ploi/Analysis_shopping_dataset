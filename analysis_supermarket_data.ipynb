{
 "cells": [
  {
   "cell_type": "markdown",
   "metadata": {},
   "source": [
    "### For more explain insight at 'Data_Challenges_Insight-Sasiprapa_N.pdf'"
   ]
  },
  {
   "cell_type": "code",
   "execution_count": 1,
   "metadata": {},
   "outputs": [],
   "source": [
    "import pandas as pd\n",
    "import numpy as np \n",
    "from IPython.display import display\n",
    "import re"
   ]
  },
  {
   "cell_type": "code",
   "execution_count": 2,
   "metadata": {
    "scrolled": true
   },
   "outputs": [
    {
     "data": {
      "text/html": [
       "<div>\n",
       "<style scoped>\n",
       "    .dataframe tbody tr th:only-of-type {\n",
       "        vertical-align: middle;\n",
       "    }\n",
       "\n",
       "    .dataframe tbody tr th {\n",
       "        vertical-align: top;\n",
       "    }\n",
       "\n",
       "    .dataframe thead th {\n",
       "        text-align: right;\n",
       "    }\n",
       "</style>\n",
       "<table border=\"1\" class=\"dataframe\">\n",
       "  <thead>\n",
       "    <tr style=\"text-align: right;\">\n",
       "      <th></th>\n",
       "      <th>SHOP_DATE</th>\n",
       "      <th>SHOP_HOUR</th>\n",
       "      <th>BASKET_ID</th>\n",
       "      <th>CUST_CODE</th>\n",
       "      <th>STORE_CODE</th>\n",
       "      <th>PROD_CODE</th>\n",
       "      <th>QUANTITY</th>\n",
       "      <th>SPEND</th>\n",
       "    </tr>\n",
       "  </thead>\n",
       "  <tbody>\n",
       "    <tr>\n",
       "      <th>0</th>\n",
       "      <td>20071006</td>\n",
       "      <td>21</td>\n",
       "      <td>994107800268406</td>\n",
       "      <td>CUST0000153531</td>\n",
       "      <td>STORE00001</td>\n",
       "      <td>PRD0901391</td>\n",
       "      <td>1</td>\n",
       "      <td>0.37</td>\n",
       "    </tr>\n",
       "    <tr>\n",
       "      <th>1</th>\n",
       "      <td>20070201</td>\n",
       "      <td>15</td>\n",
       "      <td>994104300305853</td>\n",
       "      <td>CUST0000219191</td>\n",
       "      <td>STORE00002</td>\n",
       "      <td>PRD0901915</td>\n",
       "      <td>1</td>\n",
       "      <td>5.08</td>\n",
       "    </tr>\n",
       "    <tr>\n",
       "      <th>2</th>\n",
       "      <td>20071103</td>\n",
       "      <td>13</td>\n",
       "      <td>994108200514137</td>\n",
       "      <td>CUST0000526979</td>\n",
       "      <td>STORE00003</td>\n",
       "      <td>PRD0903379</td>\n",
       "      <td>1</td>\n",
       "      <td>2.36</td>\n",
       "    </tr>\n",
       "    <tr>\n",
       "      <th>3</th>\n",
       "      <td>20070206</td>\n",
       "      <td>18</td>\n",
       "      <td>994104400743650</td>\n",
       "      <td>CUST0000913709</td>\n",
       "      <td>STORE00004</td>\n",
       "      <td>PRD0903305</td>\n",
       "      <td>1</td>\n",
       "      <td>0.20</td>\n",
       "    </tr>\n",
       "    <tr>\n",
       "      <th>4</th>\n",
       "      <td>20071015</td>\n",
       "      <td>19</td>\n",
       "      <td>994108000780959</td>\n",
       "      <td>CUST0000961285</td>\n",
       "      <td>STORE00001</td>\n",
       "      <td>PRD0903387</td>\n",
       "      <td>1</td>\n",
       "      <td>1.65</td>\n",
       "    </tr>\n",
       "    <tr>\n",
       "      <th>...</th>\n",
       "      <td>...</td>\n",
       "      <td>...</td>\n",
       "      <td>...</td>\n",
       "      <td>...</td>\n",
       "      <td>...</td>\n",
       "      <td>...</td>\n",
       "      <td>...</td>\n",
       "      <td>...</td>\n",
       "    </tr>\n",
       "    <tr>\n",
       "      <th>671909</th>\n",
       "      <td>20080130</td>\n",
       "      <td>21</td>\n",
       "      <td>994109500479712</td>\n",
       "      <td>CUST0000501799</td>\n",
       "      <td>STORE00003</td>\n",
       "      <td>PRD0902839</td>\n",
       "      <td>1</td>\n",
       "      <td>2.08</td>\n",
       "    </tr>\n",
       "    <tr>\n",
       "      <th>671910</th>\n",
       "      <td>20071218</td>\n",
       "      <td>19</td>\n",
       "      <td>994108900475341</td>\n",
       "      <td>CUST0000399653</td>\n",
       "      <td>STORE00003</td>\n",
       "      <td>PRD0900205</td>\n",
       "      <td>3</td>\n",
       "      <td>5.91</td>\n",
       "    </tr>\n",
       "    <tr>\n",
       "      <th>671911</th>\n",
       "      <td>20071220</td>\n",
       "      <td>20</td>\n",
       "      <td>994108900278513</td>\n",
       "      <td>CUST0000128681</td>\n",
       "      <td>STORE00001</td>\n",
       "      <td>PRD0900722</td>\n",
       "      <td>4</td>\n",
       "      <td>48.40</td>\n",
       "    </tr>\n",
       "    <tr>\n",
       "      <th>671912</th>\n",
       "      <td>20071122</td>\n",
       "      <td>12</td>\n",
       "      <td>994108500434632</td>\n",
       "      <td>CUST0000412413</td>\n",
       "      <td>STORE00001</td>\n",
       "      <td>PRD0901855</td>\n",
       "      <td>1</td>\n",
       "      <td>2.96</td>\n",
       "    </tr>\n",
       "    <tr>\n",
       "      <th>671913</th>\n",
       "      <td>20071105</td>\n",
       "      <td>21</td>\n",
       "      <td>994108300407357</td>\n",
       "      <td>CUST0000372422</td>\n",
       "      <td>STORE00001</td>\n",
       "      <td>PRD0901923</td>\n",
       "      <td>3</td>\n",
       "      <td>27.81</td>\n",
       "    </tr>\n",
       "  </tbody>\n",
       "</table>\n",
       "<p>671914 rows × 8 columns</p>\n",
       "</div>"
      ],
      "text/plain": [
       "       SHOP_DATE  SHOP_HOUR        BASKET_ID       CUST_CODE  STORE_CODE  \\\n",
       "0       20071006         21  994107800268406  CUST0000153531  STORE00001   \n",
       "1       20070201         15  994104300305853  CUST0000219191  STORE00002   \n",
       "2       20071103         13  994108200514137  CUST0000526979  STORE00003   \n",
       "3       20070206         18  994104400743650  CUST0000913709  STORE00004   \n",
       "4       20071015         19  994108000780959  CUST0000961285  STORE00001   \n",
       "...          ...        ...              ...             ...         ...   \n",
       "671909  20080130         21  994109500479712  CUST0000501799  STORE00003   \n",
       "671910  20071218         19  994108900475341  CUST0000399653  STORE00003   \n",
       "671911  20071220         20  994108900278513  CUST0000128681  STORE00001   \n",
       "671912  20071122         12  994108500434632  CUST0000412413  STORE00001   \n",
       "671913  20071105         21  994108300407357  CUST0000372422  STORE00001   \n",
       "\n",
       "         PROD_CODE  QUANTITY  SPEND  \n",
       "0       PRD0901391         1   0.37  \n",
       "1       PRD0901915         1   5.08  \n",
       "2       PRD0903379         1   2.36  \n",
       "3       PRD0903305         1   0.20  \n",
       "4       PRD0903387         1   1.65  \n",
       "...            ...       ...    ...  \n",
       "671909  PRD0902839         1   2.08  \n",
       "671910  PRD0900205         3   5.91  \n",
       "671911  PRD0900722         4  48.40  \n",
       "671912  PRD0901855         1   2.96  \n",
       "671913  PRD0901923         3  27.81  \n",
       "\n",
       "[671914 rows x 8 columns]"
      ]
     },
     "execution_count": 2,
     "metadata": {},
     "output_type": "execute_result"
    }
   ],
   "source": [
    "## read csv file\n",
    "df = pd.read_csv('supermarket_data.csv'\\\n",
    "                 , sep=','\\\n",
    "                 , encoding='utf-8'\\\n",
    "                 , dtype={'SHOP_DATE': 'str', 'SHOP_HOUR': 'int', 'BASKET_ID': 'str' }\\\n",
    "#                  , parse_dates=['SHOP_DATE']\n",
    "                 )\n",
    "pd.set_option('display.max_columns', None)\n",
    "\n",
    "df"
   ]
  },
  {
   "cell_type": "code",
   "execution_count": 3,
   "metadata": {
    "scrolled": true
   },
   "outputs": [
    {
     "name": "stdout",
     "output_type": "stream",
     "text": [
      "<class 'pandas.core.frame.DataFrame'>\n",
      "RangeIndex: 671914 entries, 0 to 671913\n",
      "Data columns (total 8 columns):\n",
      " #   Column      Non-Null Count   Dtype  \n",
      "---  ------      --------------   -----  \n",
      " 0   SHOP_DATE   671914 non-null  object \n",
      " 1   SHOP_HOUR   671914 non-null  int64  \n",
      " 2   BASKET_ID   671914 non-null  object \n",
      " 3   CUST_CODE   671914 non-null  object \n",
      " 4   STORE_CODE  671914 non-null  object \n",
      " 5   PROD_CODE   671914 non-null  object \n",
      " 6   QUANTITY    671914 non-null  int64  \n",
      " 7   SPEND       671914 non-null  float64\n",
      "dtypes: float64(1), int64(2), object(5)\n",
      "memory usage: 41.0+ MB\n"
     ]
    }
   ],
   "source": [
    "df.info()"
   ]
  },
  {
   "cell_type": "code",
   "execution_count": 4,
   "metadata": {},
   "outputs": [
    {
     "data": {
      "text/html": [
       "<div>\n",
       "<style scoped>\n",
       "    .dataframe tbody tr th:only-of-type {\n",
       "        vertical-align: middle;\n",
       "    }\n",
       "\n",
       "    .dataframe tbody tr th {\n",
       "        vertical-align: top;\n",
       "    }\n",
       "\n",
       "    .dataframe thead th {\n",
       "        text-align: right;\n",
       "    }\n",
       "</style>\n",
       "<table border=\"1\" class=\"dataframe\">\n",
       "  <thead>\n",
       "    <tr style=\"text-align: right;\">\n",
       "      <th></th>\n",
       "      <th>SHOP_HOUR</th>\n",
       "      <th>QUANTITY</th>\n",
       "      <th>SPEND</th>\n",
       "    </tr>\n",
       "  </thead>\n",
       "  <tbody>\n",
       "    <tr>\n",
       "      <th>count</th>\n",
       "      <td>671914.000000</td>\n",
       "      <td>671914.000000</td>\n",
       "      <td>671914.000000</td>\n",
       "    </tr>\n",
       "    <tr>\n",
       "      <th>mean</th>\n",
       "      <td>14.745869</td>\n",
       "      <td>1.514344</td>\n",
       "      <td>1.852796</td>\n",
       "    </tr>\n",
       "    <tr>\n",
       "      <th>std</th>\n",
       "      <td>3.551738</td>\n",
       "      <td>1.668037</td>\n",
       "      <td>2.589564</td>\n",
       "    </tr>\n",
       "    <tr>\n",
       "      <th>min</th>\n",
       "      <td>8.000000</td>\n",
       "      <td>1.000000</td>\n",
       "      <td>0.010000</td>\n",
       "    </tr>\n",
       "    <tr>\n",
       "      <th>25%</th>\n",
       "      <td>12.000000</td>\n",
       "      <td>1.000000</td>\n",
       "      <td>0.750000</td>\n",
       "    </tr>\n",
       "    <tr>\n",
       "      <th>50%</th>\n",
       "      <td>15.000000</td>\n",
       "      <td>1.000000</td>\n",
       "      <td>1.210000</td>\n",
       "    </tr>\n",
       "    <tr>\n",
       "      <th>75%</th>\n",
       "      <td>17.000000</td>\n",
       "      <td>1.000000</td>\n",
       "      <td>2.040000</td>\n",
       "    </tr>\n",
       "    <tr>\n",
       "      <th>max</th>\n",
       "      <td>21.000000</td>\n",
       "      <td>73.000000</td>\n",
       "      <td>189.630000</td>\n",
       "    </tr>\n",
       "  </tbody>\n",
       "</table>\n",
       "</div>"
      ],
      "text/plain": [
       "           SHOP_HOUR       QUANTITY          SPEND\n",
       "count  671914.000000  671914.000000  671914.000000\n",
       "mean       14.745869       1.514344       1.852796\n",
       "std         3.551738       1.668037       2.589564\n",
       "min         8.000000       1.000000       0.010000\n",
       "25%        12.000000       1.000000       0.750000\n",
       "50%        15.000000       1.000000       1.210000\n",
       "75%        17.000000       1.000000       2.040000\n",
       "max        21.000000      73.000000     189.630000"
      ]
     },
     "execution_count": 4,
     "metadata": {},
     "output_type": "execute_result"
    }
   ],
   "source": [
    "df.describe()"
   ]
  },
  {
   "cell_type": "code",
   "execution_count": null,
   "metadata": {
    "scrolled": false
   },
   "outputs": [
    {
     "name": "stdout",
     "output_type": "stream",
     "text": [
      "Number of date in dataset:  553\n"
     ]
    }
   ],
   "source": [
    "print ('Number of date in dataset: ', len(df.SHOP_DATE.unique()))\n",
    "print ('Number of month in dataset: ', len(df['SHOP_DATE'].str[:-2].unique()))\n",
    "df['shop_month'] = df['SHOP_DATE'].str[:-2]\n",
    "print ('\\tbetween ', df['SHOP_DATE'].max(), '-', df['SHOP_DATE'].min())"
   ]
  },
  {
   "cell_type": "code",
   "execution_count": null,
   "metadata": {},
   "outputs": [],
   "source": [
    "## Drop 200701\n",
    "df = df[df['shop_month']!='200807'].reset_index()\n",
    "df = df.drop(columns='index')\n",
    "print (df['SHOP_DATE'].max(), '-', df['SHOP_DATE'].min())"
   ]
  },
  {
   "cell_type": "code",
   "execution_count": null,
   "metadata": {},
   "outputs": [],
   "source": []
  },
  {
   "cell_type": "code",
   "execution_count": null,
   "metadata": {},
   "outputs": [],
   "source": [
    "print ('Number of customers: ', len(df.CUST_CODE.unique()))\n",
    "print ('Number of times the purchase was made:', len(df.BASKET_ID.unique()))"
   ]
  },
  {
   "cell_type": "code",
   "execution_count": null,
   "metadata": {},
   "outputs": [],
   "source": [
    "print ('Number of stores: ', len(df.STORE_CODE.unique()))\n",
    "print ('Number of goods: ', len(df.PROD_CODE.unique()))"
   ]
  },
  {
   "cell_type": "code",
   "execution_count": null,
   "metadata": {},
   "outputs": [],
   "source": []
  },
  {
   "cell_type": "code",
   "execution_count": null,
   "metadata": {},
   "outputs": [],
   "source": []
  },
  {
   "cell_type": "code",
   "execution_count": null,
   "metadata": {
    "scrolled": false
   },
   "outputs": [],
   "source": [
    "print ('Top 100 best sellers:\\n', df.groupby('PROD_CODE')['QUANTITY'].sum().sort_values(ascending=False)[:100])"
   ]
  },
  {
   "cell_type": "code",
   "execution_count": null,
   "metadata": {},
   "outputs": [],
   "source": []
  },
  {
   "cell_type": "code",
   "execution_count": null,
   "metadata": {},
   "outputs": [],
   "source": []
  },
  {
   "cell_type": "code",
   "execution_count": null,
   "metadata": {},
   "outputs": [],
   "source": [
    "df_prod1 = df.groupby('PROD_CODE')['QUANTITY'].sum().reset_index()\n",
    "df_prod1"
   ]
  },
  {
   "cell_type": "code",
   "execution_count": null,
   "metadata": {},
   "outputs": [],
   "source": [
    "df_prod2 = df.groupby('PROD_CODE')['SPEND'].sum().reset_index()\n",
    "df_prod2"
   ]
  },
  {
   "cell_type": "code",
   "execution_count": null,
   "metadata": {},
   "outputs": [],
   "source": [
    "df_prod3 = df.groupby('PROD_CODE')['BASKET_ID'].unique().reset_index()\n",
    "df_prod3['cnt_purchase'] = df_prod3['BASKET_ID'].apply(lambda x: len(x))\n",
    "df_prod3 = df_prod3.drop(columns='BASKET_ID')\n",
    "df_prod3"
   ]
  },
  {
   "cell_type": "code",
   "execution_count": null,
   "metadata": {},
   "outputs": [],
   "source": [
    "df_prod = df_prod1.merge(df_prod2, how='inner', on='PROD_CODE')\n",
    "df_prod['price'] = df_prod['SPEND']/df_prod['QUANTITY']\n",
    "df_prod"
   ]
  },
  {
   "cell_type": "code",
   "execution_count": null,
   "metadata": {},
   "outputs": [],
   "source": [
    "df_prod = df_prod.merge(df_prod3, how='inner', on='PROD_CODE')\n",
    "df_prod"
   ]
  },
  {
   "cell_type": "code",
   "execution_count": null,
   "metadata": {},
   "outputs": [],
   "source": [
    "df_prod.boxplot(column=['price'])"
   ]
  },
  {
   "cell_type": "code",
   "execution_count": null,
   "metadata": {
    "scrolled": true
   },
   "outputs": [],
   "source": [
    "df_prod.loc[df_prod['price'].idxmax()]"
   ]
  },
  {
   "cell_type": "code",
   "execution_count": null,
   "metadata": {},
   "outputs": [],
   "source": [
    "df_prod.loc[df_prod['QUANTITY'].idxmax()]"
   ]
  },
  {
   "cell_type": "code",
   "execution_count": null,
   "metadata": {},
   "outputs": [],
   "source": [
    "df_prod.loc[df_prod['cnt_purchase'].idxmax()]"
   ]
  },
  {
   "cell_type": "code",
   "execution_count": null,
   "metadata": {},
   "outputs": [],
   "source": []
  },
  {
   "cell_type": "code",
   "execution_count": null,
   "metadata": {},
   "outputs": [],
   "source": [
    "## get Quartile 3 of QUANTITY\n",
    "## Value greater than Q3 of QUANTITY, it happens often\n",
    "\n",
    "q3_quan_prod = np.quantile(df.groupby('PROD_CODE')['QUANTITY'].sum(), .75)\n",
    "q3_quan_prod"
   ]
  },
  {
   "cell_type": "code",
   "execution_count": null,
   "metadata": {},
   "outputs": [],
   "source": [
    "df_prod_f1 = df.groupby(['PROD_CODE', 'shop_month'])['QUANTITY'].sum().reset_index()\n",
    "df_prod_f1_q3 = df_prod_f1[df_prod_f1['QUANTITY']>=q3_quan_prod].reset_index()\n",
    "df_prod_f1_q3 = df_prod_f1_q3.rename(columns={'QUANTITY':'volumn'})\n",
    "df_prod_f1_q3 = df_prod_f1_q3.drop(columns='index')\n",
    "df_prod_f1_q3"
   ]
  },
  {
   "cell_type": "code",
   "execution_count": null,
   "metadata": {},
   "outputs": [],
   "source": [
    "len(df_prod_f1_q3['PROD_CODE'].unique())"
   ]
  },
  {
   "cell_type": "code",
   "execution_count": null,
   "metadata": {},
   "outputs": [],
   "source": [
    "df_prod_f1_q3.loc[df_prod_f1_q3['volumn'].idxmax()]"
   ]
  },
  {
   "cell_type": "code",
   "execution_count": null,
   "metadata": {},
   "outputs": [],
   "source": [
    "import numpy as np; np.random.seed(0)\n",
    "import seaborn as sns\n",
    "import matplotlib.pyplot as plt\n",
    "\n",
    "loss_cir_m = df_prod_f1_q3.pivot( \"shop_month\",'PROD_CODE', \"volumn\")\n",
    "plt.figure(figsize=(15,10))\n",
    "\n",
    "sns.heatmap(loss_cir_m, cmap=\"Blues\")\n",
    "\n"
   ]
  },
  {
   "cell_type": "code",
   "execution_count": null,
   "metadata": {},
   "outputs": [],
   "source": [
    "df_prod_f1_q3_piv = df_prod_f1_q3.pivot( \"shop_month\",'PROD_CODE', \"volumn\")\n",
    "df_prod_f1_q3_piv"
   ]
  },
  {
   "cell_type": "code",
   "execution_count": null,
   "metadata": {},
   "outputs": [],
   "source": [
    "prod_in_daily=[]\n",
    "prod_m=[]\n",
    "for i in df_prod_f1_q3_piv.columns.tolist():\n",
    "    if df_prod_f1_q3_piv[i].notnull().all():\n",
    "        prod_in_daily.append(i)\n",
    "    else:\n",
    "        prod_m.append(i)\n",
    "print('Product in Daily Life:\\n', prod_in_daily)"
   ]
  },
  {
   "cell_type": "code",
   "execution_count": null,
   "metadata": {},
   "outputs": [],
   "source": []
  },
  {
   "cell_type": "code",
   "execution_count": null,
   "metadata": {
    "scrolled": true
   },
   "outputs": [],
   "source": [
    "df_prod_f1_q3_piv2 = df_prod_f1_q3.pivot( 'PROD_CODE', \"shop_month\", \"volumn\")\n",
    "\n",
    "df_prod_f1_q3_piv2"
   ]
  },
  {
   "cell_type": "code",
   "execution_count": null,
   "metadata": {},
   "outputs": [],
   "source": [
    "prod_hot_in_month={}\n",
    "prod=[]\n",
    "for i in df_prod_f1_q3_piv2.columns.tolist():\n",
    "    for j in prod_m:\n",
    "        tmp_v=[]\n",
    "        tmp = df_prod_f1_q3[(df_prod_f1_q3['PROD_CODE']==j) & (df_prod_f1_q3['shop_month']==i)]['volumn'].isnull()\n",
    "        if tmp.empty==False:\n",
    "            if prod_hot_in_month.get(i) is not None:\n",
    "                tmp_v = prod_hot_in_month[i]\n",
    "                tmp_v.append(j)\n",
    "            else:\n",
    "                tmp_v.append(j)\n",
    "\n",
    "            prod_hot_in_month[i] = tmp_v\n",
    "\n",
    "print('Product hot:\\n', prod_hot_in_month)"
   ]
  },
  {
   "cell_type": "code",
   "execution_count": null,
   "metadata": {},
   "outputs": [],
   "source": [
    "df_prod_hot_in_month = pd.DataFrame(prod_hot_in_month.items(), columns=['date', 'product_cd'])\n",
    "df_prod_hot_in_month"
   ]
  },
  {
   "cell_type": "code",
   "execution_count": null,
   "metadata": {},
   "outputs": [],
   "source": [
    "df_prod_hot_in_month.to_csv('df_prod_hot_in_month.csv')"
   ]
  },
  {
   "cell_type": "code",
   "execution_count": null,
   "metadata": {},
   "outputs": [],
   "source": []
  },
  {
   "cell_type": "code",
   "execution_count": null,
   "metadata": {},
   "outputs": [],
   "source": []
  },
  {
   "cell_type": "code",
   "execution_count": null,
   "metadata": {},
   "outputs": [],
   "source": []
  },
  {
   "cell_type": "code",
   "execution_count": null,
   "metadata": {},
   "outputs": [],
   "source": [
    "df_cust1 = df.groupby('CUST_CODE')['BASKET_ID'].count().reset_index()\n",
    "df_cust1 = df_cust1.rename(columns={'BASKET_ID':'freq_buy'})\n",
    "df_cust1"
   ]
  },
  {
   "cell_type": "code",
   "execution_count": null,
   "metadata": {},
   "outputs": [],
   "source": [
    "df_cust2 = df.groupby('CUST_CODE')['SPEND'].sum().reset_index()\n",
    "df_cust2 = df_cust2.rename(columns={'SPEND':'total_spending'})\n",
    "df_cust2"
   ]
  },
  {
   "cell_type": "code",
   "execution_count": null,
   "metadata": {},
   "outputs": [],
   "source": [
    "df_cust = df_cust2.merge(df_cust1, how='inner', on='CUST_CODE')\n",
    "df_cust"
   ]
  },
  {
   "cell_type": "code",
   "execution_count": null,
   "metadata": {},
   "outputs": [],
   "source": [
    "df_cust['avg_spending'] = df_cust['total_spending']/df_cust['freq_buy']\n",
    "df_cust"
   ]
  },
  {
   "cell_type": "code",
   "execution_count": null,
   "metadata": {},
   "outputs": [],
   "source": [
    "df_cust3 = df.groupby(['CUST_CODE', 'STORE_CODE'])['BASKET_ID'].unique().reset_index()\n",
    "df_cust3['BASKET_ID'] = df_cust3['BASKET_ID'].apply(lambda x: len(x))\n",
    "df_cust3 = df_cust3.pivot(index='CUST_CODE', columns='STORE_CODE', values='BASKET_ID').fillna(0)\n",
    "df_cust3"
   ]
  },
  {
   "cell_type": "code",
   "execution_count": null,
   "metadata": {},
   "outputs": [],
   "source": [
    "df_cust = df_cust.merge(df_cust3, how='inner', on='CUST_CODE')\n",
    "df_cust"
   ]
  },
  {
   "cell_type": "code",
   "execution_count": null,
   "metadata": {},
   "outputs": [],
   "source": [
    "df_cust['visit_store'] = df_cust['STORE00001']+df_cust['STORE00002']+df_cust['STORE00003']+df_cust['STORE00004']\n",
    "df_cust"
   ]
  },
  {
   "cell_type": "code",
   "execution_count": null,
   "metadata": {},
   "outputs": [],
   "source": [
    "df_cust.loc[df_cust['total_spending'].idxmax()]"
   ]
  },
  {
   "cell_type": "code",
   "execution_count": null,
   "metadata": {},
   "outputs": [],
   "source": [
    "df_cust.loc[df_cust['avg_spending'].idxmax()]"
   ]
  },
  {
   "cell_type": "code",
   "execution_count": null,
   "metadata": {},
   "outputs": [],
   "source": [
    "df_cust.loc[df_cust['visit_store'].idxmax()]"
   ]
  },
  {
   "cell_type": "code",
   "execution_count": null,
   "metadata": {},
   "outputs": [],
   "source": []
  },
  {
   "cell_type": "code",
   "execution_count": null,
   "metadata": {},
   "outputs": [],
   "source": []
  },
  {
   "cell_type": "code",
   "execution_count": null,
   "metadata": {},
   "outputs": [],
   "source": []
  },
  {
   "cell_type": "code",
   "execution_count": null,
   "metadata": {},
   "outputs": [],
   "source": [
    "df_store1 = df.groupby(['STORE_CODE'])['BASKET_ID'].unique().reset_index()\n",
    "df_store1['total_basket'] = df_store1['BASKET_ID'].apply(lambda x: len(x))\n",
    "df_store1 = df_store1.drop(columns='BASKET_ID')\n",
    "df_store1"
   ]
  },
  {
   "cell_type": "code",
   "execution_count": null,
   "metadata": {},
   "outputs": [],
   "source": [
    "df_store1_tmp = df.groupby('STORE_CODE')['SPEND'].sum().reset_index()\n",
    "df_store = df_store1.merge(df_store1_tmp, how='inner', on='STORE_CODE')\n",
    "df_store = df_store.rename(columns={'SPEND':'total_spending'})\n",
    "df_store"
   ]
  },
  {
   "cell_type": "code",
   "execution_count": null,
   "metadata": {},
   "outputs": [],
   "source": [
    "num_month = len(df['SHOP_DATE'].str[:-2].unique())\n",
    "df_store['avg_cust_spend_per_month'] = df_store['total_spending']/num_month\n",
    "df_store['avg_cust_spend_per_person'] = df_store['total_spending']/df_store['total_basket']\n",
    "df_store"
   ]
  },
  {
   "cell_type": "code",
   "execution_count": null,
   "metadata": {},
   "outputs": [],
   "source": []
  },
  {
   "cell_type": "code",
   "execution_count": null,
   "metadata": {},
   "outputs": [],
   "source": []
  },
  {
   "cell_type": "code",
   "execution_count": null,
   "metadata": {},
   "outputs": [],
   "source": []
  },
  {
   "cell_type": "code",
   "execution_count": null,
   "metadata": {},
   "outputs": [],
   "source": []
  },
  {
   "cell_type": "code",
   "execution_count": null,
   "metadata": {},
   "outputs": [],
   "source": [
    "df_store_m1 = df.groupby(['STORE_CODE', 'shop_month'])['CUST_CODE'].unique().reset_index()\n",
    "df_store_m1['total_cust'] = df_store_m1['CUST_CODE'].apply(lambda x: len(x))\n",
    "df_store_m1 = df_store_m1.drop(columns='CUST_CODE')\n",
    "df_store_m1"
   ]
  },
  {
   "cell_type": "code",
   "execution_count": null,
   "metadata": {},
   "outputs": [],
   "source": [
    "df_store_m2 = df.groupby(['STORE_CODE', 'shop_month'])['SPEND'].sum().reset_index()\n",
    "df_store_m2 = df_store_m2.rename(columns={'SPEND':'total_spend'})\n",
    "df_store_m2"
   ]
  },
  {
   "cell_type": "code",
   "execution_count": null,
   "metadata": {},
   "outputs": [],
   "source": [
    "df_store_m = df_store_m1.merge(df_store_m2, how='inner', on=['STORE_CODE', 'shop_month'])\n",
    "df_store_m"
   ]
  },
  {
   "cell_type": "code",
   "execution_count": null,
   "metadata": {},
   "outputs": [],
   "source": [
    "df_store_m3 = df.groupby(['STORE_CODE', 'shop_month'])['BASKET_ID'].unique().reset_index()\n",
    "df_store_m3['total_basket'] = df_store_m3['BASKET_ID'].apply(lambda x: len(x))\n",
    "df_store_m3 = df_store_m3.drop(columns='BASKET_ID')\n",
    "df_store_m3"
   ]
  },
  {
   "cell_type": "code",
   "execution_count": null,
   "metadata": {},
   "outputs": [],
   "source": [
    "df_store_m = df_store_m.merge(df_store_m3, how='inner', on=['STORE_CODE', 'shop_month'])\n",
    "df_store_m"
   ]
  },
  {
   "cell_type": "code",
   "execution_count": null,
   "metadata": {
    "scrolled": true
   },
   "outputs": [],
   "source": [
    "df_store_m[df_store_m['STORE_CODE']=='STORE00001']"
   ]
  },
  {
   "cell_type": "code",
   "execution_count": null,
   "metadata": {},
   "outputs": [],
   "source": []
  },
  {
   "cell_type": "code",
   "execution_count": null,
   "metadata": {},
   "outputs": [],
   "source": []
  },
  {
   "cell_type": "code",
   "execution_count": null,
   "metadata": {},
   "outputs": [],
   "source": []
  },
  {
   "cell_type": "code",
   "execution_count": null,
   "metadata": {},
   "outputs": [],
   "source": []
  },
  {
   "cell_type": "code",
   "execution_count": null,
   "metadata": {},
   "outputs": [],
   "source": []
  },
  {
   "cell_type": "code",
   "execution_count": null,
   "metadata": {},
   "outputs": [],
   "source": []
  },
  {
   "cell_type": "code",
   "execution_count": null,
   "metadata": {},
   "outputs": [],
   "source": [
    "import datetime\n",
    "df['day_of_week'] = df['SHOP_DATE'].apply(lambda x: datetime.datetime.strptime(x, '%Y%m%d').strftime('%A'))\n",
    "df"
   ]
  },
  {
   "cell_type": "code",
   "execution_count": null,
   "metadata": {},
   "outputs": [],
   "source": [
    "df_freq = df.groupby(['STORE_CODE', 'day_of_week', 'SHOP_HOUR'])['CUST_CODE'].unique().reset_index()\n",
    "df_freq['cnt_cust'] = df_freq['CUST_CODE'].apply(lambda x: len(x))\n",
    "df_freq = df_freq.drop(columns='CUST_CODE')\n",
    "df_freq"
   ]
  },
  {
   "cell_type": "code",
   "execution_count": null,
   "metadata": {
    "scrolled": false
   },
   "outputs": [],
   "source": [
    "for i in df_freq['STORE_CODE'].unique():\n",
    "    tmp = df_freq[df_freq['STORE_CODE']==i]\n",
    "\n",
    "    loss_cir_m = tmp.pivot(\"day_of_week\",'SHOP_HOUR', \"cnt_cust\")\n",
    "    plt.figure(figsize=(15, 10))\n",
    "    plt.title(i)\n",
    "    sns.heatmap(loss_cir_m, cmap=\"Blues\")\n"
   ]
  },
  {
   "cell_type": "code",
   "execution_count": null,
   "metadata": {},
   "outputs": [],
   "source": [
    "tmp = df_freq.drop(columns='STORE_CODE')\n",
    "tmp = tmp.groupby(['day_of_week', 'SHOP_HOUR'])['cnt_cust'].sum().reset_index()\n",
    "tmp\n",
    "loss_cir_m = tmp.pivot(\"day_of_week\",'SHOP_HOUR', \"cnt_cust\")\n",
    "plt.figure(figsize=(15, 10))\n",
    "plt.title('All Store')\n",
    "sns.heatmap(loss_cir_m, cmap=\"Blues\")"
   ]
  },
  {
   "cell_type": "code",
   "execution_count": null,
   "metadata": {},
   "outputs": [],
   "source": []
  },
  {
   "cell_type": "code",
   "execution_count": null,
   "metadata": {},
   "outputs": [],
   "source": []
  },
  {
   "cell_type": "code",
   "execution_count": null,
   "metadata": {},
   "outputs": [],
   "source": []
  },
  {
   "cell_type": "code",
   "execution_count": null,
   "metadata": {},
   "outputs": [],
   "source": []
  },
  {
   "cell_type": "code",
   "execution_count": null,
   "metadata": {},
   "outputs": [],
   "source": [
    "df_freq_m = df.groupby(['STORE_CODE', 'shop_month', 'day_of_week', 'SHOP_HOUR'])['CUST_CODE'].unique().reset_index()\n",
    "df_freq_m['cnt_cust'] = df_freq_m['CUST_CODE'].apply(lambda x: len(x))\n",
    "df_freq_m = df_freq_m.drop(columns=['CUST_CODE', 'SHOP_HOUR'])\n",
    "df_freq_m\n"
   ]
  },
  {
   "cell_type": "code",
   "execution_count": null,
   "metadata": {
    "scrolled": false
   },
   "outputs": [],
   "source": [
    "for i in df_freq_m['STORE_CODE'].unique():\n",
    "    tmp = df_freq_m[df_freq_m['STORE_CODE']==i]\\\n",
    "                                .groupby(['shop_month', 'day_of_week']).sum().reset_index()\n",
    "    loss_cir_m = tmp.pivot(\"day_of_week\",\"shop_month\", \"cnt_cust\")\n",
    "    plt.figure(figsize=(15, 10))\n",
    "    plt.title(i)\n",
    "    sns.heatmap(loss_cir_m, cmap=\"Blues\")\n",
    "        \n",
    "\n"
   ]
  },
  {
   "cell_type": "code",
   "execution_count": null,
   "metadata": {},
   "outputs": [],
   "source": []
  }
 ],
 "metadata": {
  "kernelspec": {
   "display_name": "Python 3",
   "language": "python",
   "name": "python3"
  },
  "language_info": {
   "codemirror_mode": {
    "name": "ipython",
    "version": 3
   },
   "file_extension": ".py",
   "mimetype": "text/x-python",
   "name": "python",
   "nbconvert_exporter": "python",
   "pygments_lexer": "ipython3",
   "version": "3.8.3"
  }
 },
 "nbformat": 4,
 "nbformat_minor": 2
}
